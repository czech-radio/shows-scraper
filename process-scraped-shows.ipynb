{
 "cells": [
  {
   "attachments": {},
   "cell_type": "markdown",
   "metadata": {},
   "source": [
    "# Zpracování dat z webu (scraper)"
   ]
  },
  {
   "cell_type": "code",
   "execution_count": 1,
   "metadata": {},
   "outputs": [],
   "source": [
    "import csv\n",
    "import math\n",
    "import os\n",
    "import json\n",
    "\n",
    "import pandas as pd\n",
    "import requests\n",
    "import cro.schedule as schedule\n",
    "from pathlib import Path\n",
    "\n",
    "\n",
    "DATA = Path(\"./data\")\n",
    "\n",
    "# import sys\n",
    "#!{sys.executable} -m pip install scrapy\n",
    "# import sys; sys.path\n",
    "# import numpy; numpy.__path__"
   ]
  },
  {
   "cell_type": "code",
   "execution_count": 5,
   "metadata": {},
   "outputs": [],
   "source": [
    "with open(\"./data/shows.data\") as f:\n",
    "    lines = f\"[{','.join(f.readlines())}]\"\n",
    "    rows = json.loads(lines)"
   ]
  },
  {
   "cell_type": "code",
   "execution_count": 6,
   "metadata": {},
   "outputs": [],
   "source": [
    "\n",
    "rdf = pd.DataFrame(rows)"
   ]
  },
  {
   "cell_type": "code",
   "execution_count": 7,
   "metadata": {},
   "outputs": [
    {
     "data": {
      "text/html": [
       "<div>\n",
       "<style scoped>\n",
       "    .dataframe tbody tr th:only-of-type {\n",
       "        vertical-align: middle;\n",
       "    }\n",
       "\n",
       "    .dataframe tbody tr th {\n",
       "        vertical-align: top;\n",
       "    }\n",
       "\n",
       "    .dataframe thead th {\n",
       "        text-align: right;\n",
       "    }\n",
       "</style>\n",
       "<table border=\"1\" class=\"dataframe\">\n",
       "  <thead>\n",
       "    <tr style=\"text-align: right;\">\n",
       "      <th></th>\n",
       "      <th>show</th>\n",
       "      <th>episode</th>\n",
       "      <th>date</th>\n",
       "      <th>time</th>\n",
       "      <th>link</th>\n",
       "      <th>teaser</th>\n",
       "      <th>moderator</th>\n",
       "      <th>guests</th>\n",
       "      <th>topicsCount</th>\n",
       "      <th>toParse</th>\n",
       "    </tr>\n",
       "  </thead>\n",
       "  <tbody>\n",
       "    <tr>\n",
       "      <th>0</th>\n",
       "      <td>Hlavní zprávy - rozhovory a komentáře</td>\n",
       "      <td>Jednodenní vzpoura wagnerovců. Putinovy nadchá...</td>\n",
       "      <td>2023-06-25</td>\n",
       "      <td>12:10</td>\n",
       "      <td>https://plus.rozhlas.cz/poledni-publicistika-j...</td>\n",
       "      <td>Vzpoura wagnerových žoldnéřů trvala jeden den....</td>\n",
       "      <td>{'firstName': 'Věra', 'lastName': 'Štechrová'}</td>\n",
       "      <td>[{'firstName': 'Jan', 'lastName': 'Šír', 'func...</td>\n",
       "      <td>3</td>\n",
       "      <td>Hosty Věry Štechrové byli:Jan Šír, politolog z...</td>\n",
       "    </tr>\n",
       "    <tr>\n",
       "      <th>1</th>\n",
       "      <td>Hlavní zprávy - rozhovory a komentáře</td>\n",
       "      <td>Wagnerovci v Rusku. Putinova reakce na konflik...</td>\n",
       "      <td>2023-06-24</td>\n",
       "      <td>12:10</td>\n",
       "      <td>https://plus.rozhlas.cz/poledni-publicistika-w...</td>\n",
       "      <td>Stačila jedna noc a situace v Rusku se zásadně...</td>\n",
       "      <td>{'firstName': 'Věra', 'lastName': 'Štechrová'}</td>\n",
       "      <td>[{'firstName': 'Jiří', 'lastName': 'Just', 'fu...</td>\n",
       "      <td>3</td>\n",
       "      <td>Hosty Věry Štechrové byli:Jiří Just, publicist...</td>\n",
       "    </tr>\n",
       "    <tr>\n",
       "      <th>2</th>\n",
       "      <td>Hlavní zprávy - rozhovory a komentáře</td>\n",
       "      <td>Podmínky pro splácení hypoték. Dětská kriminal...</td>\n",
       "      <td>2023-06-23</td>\n",
       "      <td>18:10</td>\n",
       "      <td>https://plus.rozhlas.cz/odpoledni-publicistika...</td>\n",
       "      <td>Měly by se upravit podmínky pro předčasné splá...</td>\n",
       "      <td>{'firstName': 'Věra', 'lastName': 'Štechrová'}</td>\n",
       "      <td>[{'firstName': 'Jiří', 'lastName': 'Sýkora', '...</td>\n",
       "      <td>3</td>\n",
       "      <td>Hosty Věry Štechrové jsou:Jiří Sýkora, hypoteč...</td>\n",
       "    </tr>\n",
       "    <tr>\n",
       "      <th>3</th>\n",
       "      <td>Hlavní zprávy - rozhovory a komentáře</td>\n",
       "      <td>Obce a kapacity školek. Národní konvent o vzdě...</td>\n",
       "      <td>2023-06-23</td>\n",
       "      <td>12:10</td>\n",
       "      <td>https://plus.rozhlas.cz/poledni-publicistika-o...</td>\n",
       "      <td>Jak složité bude pro obce zajistit místo ve šk...</td>\n",
       "      <td>{'firstName': 'Věra', 'lastName': 'Štechrová'}</td>\n",
       "      <td>[{'firstName': 'Oldřich', 'lastName': 'Vávra',...</td>\n",
       "      <td>3</td>\n",
       "      <td>Hosty Věry Štechrové jsou:Oldřich Vávra, 1. mí...</td>\n",
       "    </tr>\n",
       "    <tr>\n",
       "      <th>4</th>\n",
       "      <td>Hlavní zprávy - rozhovory a komentáře</td>\n",
       "      <td>Firemní strategie Volkswagenu. Revize vztahů Č...</td>\n",
       "      <td>2023-06-21</td>\n",
       "      <td>18:10</td>\n",
       "      <td>https://plus.rozhlas.cz/odpoledni-publicistika...</td>\n",
       "      <td>Co by mohlo vyplývat z nové firemní strategie ...</td>\n",
       "      <td>{'firstName': 'Vladimír', 'lastName': 'Kroc'}</td>\n",
       "      <td>[{'firstName': 'Václav', 'lastName': 'Jabůrek'...</td>\n",
       "      <td>3</td>\n",
       "      <td>Hosty Vladimíra Kroce jsou:Václav Jabůrek, zpr...</td>\n",
       "    </tr>\n",
       "  </tbody>\n",
       "</table>\n",
       "</div>"
      ],
      "text/plain": [
       "                                    show   \n",
       "0  Hlavní zprávy - rozhovory a komentáře  \\\n",
       "1  Hlavní zprávy - rozhovory a komentáře   \n",
       "2  Hlavní zprávy - rozhovory a komentáře   \n",
       "3  Hlavní zprávy - rozhovory a komentáře   \n",
       "4  Hlavní zprávy - rozhovory a komentáře   \n",
       "\n",
       "                                             episode        date   time   \n",
       "0  Jednodenní vzpoura wagnerovců. Putinovy nadchá...  2023-06-25  12:10  \\\n",
       "1  Wagnerovci v Rusku. Putinova reakce na konflik...  2023-06-24  12:10   \n",
       "2  Podmínky pro splácení hypoték. Dětská kriminal...  2023-06-23  18:10   \n",
       "3  Obce a kapacity školek. Národní konvent o vzdě...  2023-06-23  12:10   \n",
       "4  Firemní strategie Volkswagenu. Revize vztahů Č...  2023-06-21  18:10   \n",
       "\n",
       "                                                link   \n",
       "0  https://plus.rozhlas.cz/poledni-publicistika-j...  \\\n",
       "1  https://plus.rozhlas.cz/poledni-publicistika-w...   \n",
       "2  https://plus.rozhlas.cz/odpoledni-publicistika...   \n",
       "3  https://plus.rozhlas.cz/poledni-publicistika-o...   \n",
       "4  https://plus.rozhlas.cz/odpoledni-publicistika...   \n",
       "\n",
       "                                              teaser   \n",
       "0  Vzpoura wagnerových žoldnéřů trvala jeden den....  \\\n",
       "1  Stačila jedna noc a situace v Rusku se zásadně...   \n",
       "2  Měly by se upravit podmínky pro předčasné splá...   \n",
       "3  Jak složité bude pro obce zajistit místo ve šk...   \n",
       "4  Co by mohlo vyplývat z nové firemní strategie ...   \n",
       "\n",
       "                                        moderator   \n",
       "0  {'firstName': 'Věra', 'lastName': 'Štechrová'}  \\\n",
       "1  {'firstName': 'Věra', 'lastName': 'Štechrová'}   \n",
       "2  {'firstName': 'Věra', 'lastName': 'Štechrová'}   \n",
       "3  {'firstName': 'Věra', 'lastName': 'Štechrová'}   \n",
       "4   {'firstName': 'Vladimír', 'lastName': 'Kroc'}   \n",
       "\n",
       "                                              guests  topicsCount   \n",
       "0  [{'firstName': 'Jan', 'lastName': 'Šír', 'func...            3  \\\n",
       "1  [{'firstName': 'Jiří', 'lastName': 'Just', 'fu...            3   \n",
       "2  [{'firstName': 'Jiří', 'lastName': 'Sýkora', '...            3   \n",
       "3  [{'firstName': 'Oldřich', 'lastName': 'Vávra',...            3   \n",
       "4  [{'firstName': 'Václav', 'lastName': 'Jabůrek'...            3   \n",
       "\n",
       "                                             toParse  \n",
       "0  Hosty Věry Štechrové byli:Jan Šír, politolog z...  \n",
       "1  Hosty Věry Štechrové byli:Jiří Just, publicist...  \n",
       "2  Hosty Věry Štechrové jsou:Jiří Sýkora, hypoteč...  \n",
       "3  Hosty Věry Štechrové jsou:Oldřich Vávra, 1. mí...  \n",
       "4  Hosty Vladimíra Kroce jsou:Václav Jabůrek, zpr...  "
      ]
     },
     "execution_count": 7,
     "metadata": {},
     "output_type": "execute_result"
    }
   ],
   "source": [
    "rdf.head()"
   ]
  },
  {
   "cell_type": "code",
   "execution_count": 8,
   "metadata": {},
   "outputs": [],
   "source": [
    "rdf['moderator'] = rdf.moderator.apply(lambda x: f\"{x['lastName']},{x['firstName']}\")\n"
   ]
  },
  {
   "cell_type": "code",
   "execution_count": 9,
   "metadata": {},
   "outputs": [],
   "source": [
    "rdf = rdf.explode('guests')"
   ]
  },
  {
   "cell_type": "code",
   "execution_count": 10,
   "metadata": {},
   "outputs": [],
   "source": [
    "rdf[\"respondent_first_name\"] = rdf.guests.apply(lambda x: f\"{x['firstName']}\")\n",
    "rdf[\"respondent_last_name\"] = rdf.guests.apply(lambda x: f\"{x['lastName']}\")\n",
    "rdf[\"respondent_function\"] = rdf.guests.apply(lambda x: f\"{x['function']}\")"
   ]
  },
  {
   "cell_type": "code",
   "execution_count": 11,
   "metadata": {},
   "outputs": [],
   "source": [
    "rdf = rdf.drop('guests', axis=1)\n"
   ]
  },
  {
   "cell_type": "code",
   "execution_count": 12,
   "metadata": {},
   "outputs": [],
   "source": [
    "rdf.to_csv(\"data/shows-scraper.csv\", index=None)"
   ]
  },
  {
   "cell_type": "code",
   "execution_count": 1,
   "metadata": {},
   "outputs": [],
   "source": [
    "### Zjisti funkce osob pomocí Geneea\n",
    "\n",
    "# **Nyní nemám přístup k této funkcionalitě.**\n",
    "\n",
    "# Zjistíme funkce pro všechny rozpoznané osoby. Prozatím negunguje / access denied\n",
    "\n",
    "# ids = respondents_df[\"gkbid\"].to_list()\n",
    "# data_input = {\n",
    "#     \"ids\": ids,\n",
    "#     \"language\": \"cs\",\n",
    "# }\n",
    "\n",
    "# result = requests.post(\n",
    "#     f\"{BASE_URL}knowledgebase/infoboxes\", json=data_input, headers=HEADERS\n",
    "# )\n",
    "# result.content"
   ]
  },
  {
   "cell_type": "code",
   "execution_count": null,
   "metadata": {},
   "outputs": [],
   "source": []
  }
 ],
 "metadata": {
  "kernelspec": {
   "display_name": ".venv",
   "language": "python",
   "name": "python3"
  },
  "language_info": {
   "codemirror_mode": {
    "name": "ipython",
    "version": 3
   },
   "file_extension": ".py",
   "mimetype": "text/x-python",
   "name": "python",
   "nbconvert_exporter": "python",
   "pygments_lexer": "ipython3",
   "version": "3.11.0"
  },
  "orig_nbformat": 4,
  "vscode": {
   "interpreter": {
    "hash": "c3b5eb6392fb8915b6a4bc94f0cb34158f05b46b7d234e0040f9bf5fc3a28a58"
   }
  }
 },
 "nbformat": 4,
 "nbformat_minor": 2
}
