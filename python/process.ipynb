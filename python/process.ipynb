{
 "cells": [
  {
   "attachments": {},
   "cell_type": "markdown",
   "metadata": {},
   "source": [
    "# Zpracování a prezentace dat\n",
    "\n",
    "Notebook pro získání moderátorů a respondentů zastoupených ve vybraných pořadech vysílání Českého rozhlasu.  "
   ]
  },
  {
   "attachments": {},
   "cell_type": "markdown",
   "metadata": {},
   "source": [
    "## Knihovny"
   ]
  },
  {
   "cell_type": "code",
   "execution_count": null,
   "metadata": {},
   "outputs": [],
   "source": [
    "import csv\n",
    "import math\n",
    "import os\n",
    "\n",
    "import pandas as pd\n",
    "import requests\n",
    "import cro.schedule as schedule\n",
    "from pathlib import Path\n",
    "\n",
    "\n",
    "DATA = Path(\"../data\")\n",
    "\n",
    "# import sys\n",
    "#!{sys.executable} -m pip install scrapy\n",
    "# import sys; sys.path\n",
    "# import numpy; numpy.__path__"
   ]
  },
  {
   "attachments": {},
   "cell_type": "markdown",
   "metadata": {},
   "source": [
    "## Konfigurace\n",
    "\n",
    "Od uživatele chceme aby zadal požadované období (dny) pro které budeme provádět analýzu.\n",
    "\n",
    "### Vstup od uživatele"
   ]
  },
  {
   "cell_type": "code",
   "execution_count": null,
   "metadata": {},
   "outputs": [],
   "source": [
    "dates = [f\"2023-04-{i}\" for i in range(1, 30)]\n",
    "\n",
    "print(dates)"
   ]
  },
  {
   "attachments": {},
   "cell_type": "markdown",
   "metadata": {},
   "source": [
    "## Zpracování"
   ]
  },
  {
   "attachments": {},
   "cell_type": "markdown",
   "metadata": {},
   "source": [
    "### Získej program pro stanici Plus a Radiožurnál"
   ]
  },
  {
   "cell_type": "code",
   "execution_count": null,
   "metadata": {},
   "outputs": [],
   "source": [
    "client = schedule.Client(\"plus\")\n",
    "schedules_ps = list(client.get_day_schedule(date) for date in dates)"
   ]
  },
  {
   "cell_type": "code",
   "execution_count": null,
   "metadata": {},
   "outputs": [],
   "source": [
    "client = schedule.Client(\"radiozurnal\")\n",
    "schedules_rz = list(client.get_day_schedule(date) for date in dates)"
   ]
  },
  {
   "cell_type": "code",
   "execution_count": null,
   "metadata": {},
   "outputs": [],
   "source": [
    "schedules = schedules_rz + schedules_ps\n",
    "\n",
    "for s in schedules:\n",
    "    print(s)"
   ]
  },
  {
   "attachments": {},
   "cell_type": "markdown",
   "metadata": {},
   "source": [
    "### Vyber jen požadované pořady"
   ]
  },
  {
   "cell_type": "code",
   "execution_count": null,
   "metadata": {},
   "outputs": [],
   "source": [
    "schedule_data = []\n",
    "\n",
    "for schedule in schedules:\n",
    "    for index, show in enumerate(schedule.shows):\n",
    "        if len(show.moderators) == 0:\n",
    "            moderators = \"\"\n",
    "        else:\n",
    "            moderators = \";\".join(p.name for p in show.moderators)\n",
    "        relation_type = \"repríza\" if show.repetition else \"premiéra\"\n",
    "\n",
    "        line = dict(\n",
    "            station_name=show.station.name,\n",
    "            show_type=show.type,\n",
    "            show_kind_name=show.kind.name,\n",
    "            show_description=show.description,\n",
    "            show_id=show.id,\n",
    "            show_title=show.title,\n",
    "            show_date=show.date,\n",
    "            show_since=show.since,\n",
    "            show_till=show.till,\n",
    "            relation_type=relation_type,\n",
    "            show_duration_minutes=math.ceil(show.duration / 60),\n",
    "            moderators=moderators,\n",
    "        )\n",
    "\n",
    "        schedule_data.append(line)"
   ]
  },
  {
   "attachments": {},
   "cell_type": "markdown",
   "metadata": {},
   "source": [
    "### Ulož program do CSV pro další zpracování"
   ]
  },
  {
   "cell_type": "code",
   "execution_count": null,
   "metadata": {},
   "outputs": [],
   "source": [
    "# Uložíme CSV pro další zpracování.\n",
    "with open(DATA / \"schedule.csv\", mode=\"w\") as file:\n",
    "    writer = csv.DictWriter(file, fieldnames=schedule_data[0].keys())\n",
    "    writer.writeheader()\n",
    "    writer.writerows(schedule_data)"
   ]
  },
  {
   "attachments": {},
   "cell_type": "markdown",
   "metadata": {},
   "source": [
    "---\n",
    "**ZAČNI ZDE, POKUD CHCEŠ PRACOVAT S JIŽ ULOŽENÝM PROGRAMEM**"
   ]
  },
  {
   "cell_type": "code",
   "execution_count": null,
   "metadata": {},
   "outputs": [],
   "source": [
    "SHOWS_WANTED = (\n",
    "    \"Pro a proti\",\n",
    "    \"Interview Plus\",\n",
    "    \"Rozhovory a komentáře\",\n",
    "    \"Dvacet minut Radiožurnálu\",\n",
    "    \"Hlavní zprávy - rozhovory a komentáře\",\n",
    "    \"Speciál\",\n",
    ")"
   ]
  },
  {
   "attachments": {},
   "cell_type": "markdown",
   "metadata": {},
   "source": [
    "### Načti program a získej premiéry\n",
    "\n",
    "- Načteme data do tabulky a aplikujeme voodoo a černou magii.\n",
    "  - Vybereme pouze premiéry pořadů.\n",
    "- Respondenty získáme pomocí parsování a služby Geneea (*entity recognition*).\n"
   ]
  },
  {
   "cell_type": "code",
   "execution_count": null,
   "metadata": {},
   "outputs": [],
   "source": [
    "df = pd.read_csv(DATA / \"schedule.csv\")\n",
    "df = df[df.relation_type == \"premiéra\"] # FIXME"
   ]
  },
  {
   "attachments": {},
   "cell_type": "markdown",
   "metadata": {},
   "source": [
    "### Ukaž unikátní názvy pořadů "
   ]
  },
  {
   "cell_type": "code",
   "execution_count": null,
   "metadata": {},
   "outputs": [],
   "source": [
    "shows_ps = set(df[df[\"station_name\"] == \"Plus\"][\"show_title\"].to_list())\n",
    "shows_rz = set(df[df[\"station_name\"] == \"Radiožurnál\"][\"show_title\"].to_list())\n",
    "\n",
    "print(\"POŘADY STANICE PLUS:\\n\", shows_ps)\n",
    "print(\"POŘADY STANICE RADIOŽURNÁL:\\n\", shows_rz)"
   ]
  },
  {
   "cell_type": "code",
   "execution_count": null,
   "metadata": {},
   "outputs": [],
   "source": [
    "# Vyber pouze sledované pořady\n",
    "df = df[df[\"show_title\"].isin(SHOWS_WANTED)] # FIXME\n",
    "df.head(100)"
   ]
  },
  {
   "attachments": {},
   "cell_type": "markdown",
   "metadata": {},
   "source": [
    "## Kontrola\n",
    "\n",
    "Zkontrolujeme si, jestli máme očekávaný počet premiér pořadů (nyní za měsíc):\n",
    "- Dvacet minut Radiožurnálu: 23 (premiér/březen) * 2 (stanic) = 46 premiér / březen (23 na Radiožurnálu)\n",
    "- Interview Plus: 23 (premiér/březen) * 1 (stanic) = 23 premiér / březen\n",
    "- Pro a proti: 23 (premiér/březen) * 1 (stanic) = 23 premiér / březen\n",
    "- Hlavní zprávy - rozhovory a komentáře: 23 * 2 (dvakrát za prac. den) * 2 (stanic) = 92 (46 na Radiožurnálu)\n"
   ]
  },
  {
   "cell_type": "code",
   "execution_count": null,
   "metadata": {},
   "outputs": [],
   "source": [
    "# Kolik máme řádků/premiér pořadů (epizod).\n",
    "len(df)"
   ]
  },
  {
   "cell_type": "code",
   "execution_count": null,
   "metadata": {},
   "outputs": [],
   "source": [
    "#  Na Plusu se premiéry objevují jen pro dva dny v týdnu, zřejmě můžeme Plus úplně vyfiltrovat. \n",
    "df = df[~((df[\"show_title\"] == \"Dvacet minut Radiožurnálu\") & (df[\"station_name\"] == \"Plus\")) ]\n",
    "df = df[~((df[\"show_title\"] == \"Hlavní zprávy - rozhovory a komentáře\") & (df[\"station_name\"] == \"Plus\")) ]\n",
    "\n",
    "print(\"Očekávaný počet premiér 'Dvacet minut Radiožurnálu' odpovídá:\",  len( df[df[\"show_title\"] == \"Dvacet minut Radiožurnálu\"]) == 23)\n",
    "print(\"Očekávaný počet premiér 'Interview Plus' odpovídá:\",  len( df[df[\"show_title\"] == \"Interview Plus\"]) == 23)\n",
    "print(\"Očekávaný počet premiér 'Pro a proti' odpovídá:\",  len( df[df[\"show_title\"] == \"Pro a proti\"]) == 23)\n",
    "print(\"Očekávaný počet premiér 'Hlavní zprávy - rozhovory a komentáře' odpovídá:\",  len( df[df[\"show_title\"] == \"Hlavní zprávy - rozhovory a komentáře\"]) == 46, len( df[df[\"show_title\"] == \"Hlavní zprávy - rozhovory a komentáře\"]))\n",
    "\n",
    "# df[df[\"show_title\"] ==  \"Hlavní zprávy - rozhovory a komentáře\" ].head(100)"
   ]
  },
  {
   "attachments": {},
   "cell_type": "markdown",
   "metadata": {},
   "source": []
  },
  {
   "attachments": {},
   "cell_type": "markdown",
   "metadata": {},
   "source": [
    "### Získej popis epizod pro NLP analýzu"
   ]
  },
  {
   "cell_type": "code",
   "execution_count": null,
   "metadata": {},
   "outputs": [],
   "source": [
    "index_description_df = df[[\"show_title\", \"show_description\"]]"
   ]
  },
  {
   "attachments": {},
   "cell_type": "markdown",
   "metadata": {},
   "source": [
    "#### Ukázka záznamů"
   ]
  },
  {
   "cell_type": "code",
   "execution_count": null,
   "metadata": {},
   "outputs": [],
   "source": [
    "index_description_df.head(5)"
   ]
  },
  {
   "attachments": {},
   "cell_type": "markdown",
   "metadata": {},
   "source": [
    "#### Počet záznamů"
   ]
  },
  {
   "cell_type": "code",
   "execution_count": null,
   "metadata": {},
   "outputs": [],
   "source": [
    "len(index_description_df)"
   ]
  },
  {
   "attachments": {},
   "cell_type": "markdown",
   "metadata": {},
   "source": [
    "### Vytvoř objekty pro NLP analýzu\n",
    "\n",
    "Po potřeby Geneea Media V2 API vytvoříme JSON objekty, které zasíláme v dotazu. Jako index (atribut `id`) použijeme index řádku datového rámce, ten pak dostaneme po zpracování zpět. Tím můžeme získané entity opět spojit s původními řádky datového rámce. Pro jeden analyzovaný text můžeme dostat 0 až N rozpoznaných osob. Nekteré z nich mohou být moderátoři, ty se snažíme odfiltrovat pomocí daného seznamu."
   ]
  },
  {
   "cell_type": "code",
   "execution_count": null,
   "metadata": {},
   "outputs": [],
   "source": [
    "inputs = []\n",
    "for i, record in index_description_df.iterrows():\n",
    "    inputs.append(\n",
    "        {\n",
    "            \"id\": i,\n",
    "            \"paraSpecs\": [{\"type\": \"text\", \"text\": record.show_description}],\n",
    "        }\n",
    "    )\n",
    "\n",
    "# Uložíme si vstupy pro přehled.\n",
    "# with open(DATA / \"test.txt\", mode=\"w\", encoding=\"utf8\") as f:\n",
    "    # f.write(\"\\n\".join([str(i) for i in inputs]))"
   ]
  },
  {
   "cell_type": "code",
   "execution_count": null,
   "metadata": {},
   "outputs": [],
   "source": [
    "BASE_URL = \"https://media-api.geneea.com/v2/\"\n",
    "HEADERS = {\"content-type\": \"application/json\", \"X-API-Key\": os.getenv(\"GENEEA_API_KEY\")}\n",
    "\n",
    "results = [requests.post(f\"{BASE_URL}nlp/analyze\", json=input, headers=HEADERS).json() for input in inputs]"
   ]
  },
  {
   "cell_type": "code",
   "execution_count": null,
   "metadata": {},
   "outputs": [],
   "source": [
    "len(results) == len(index_description_df)"
   ]
  },
  {
   "attachments": {},
   "cell_type": "markdown",
   "metadata": {},
   "source": [
    "### Uložíme  získané entity/osoby spolu s původním indexem záznamu \n",
    "\n",
    "Rozpoznaná entita má buď typ `person` nebo v některých případech typ `other`. To pak musíme hledat klíč `feats` a v něm dále `detectedType`. \n",
    "\n",
    "**Klíče nemusí existovat!**"
   ]
  },
  {
   "cell_type": "code",
   "execution_count": null,
   "metadata": {},
   "outputs": [],
   "source": [
    "index_person = []\n",
    "for result in results:\n",
    "    if \"entities\" in result:\n",
    "        for entity in result[\"entities\"]:\n",
    "            if entity[\"type\"] == \"person\":\n",
    "                index_person.append((result[\"id\"], entity[\"stdForm\"], entity[\"gkbId\"]))\n",
    "            if \"feats\" in entity:\n",
    "                if \"detectedType\" == entity[\"feats\"]:\n",
    "                    if entity[\"feats\"][\"detectedType\"] == \"person\":\n",
    "                        index_person.append((result[\"id\"], entity[\"stdForm\"], entity[\"gkbId\"]))"
   ]
  },
  {
   "cell_type": "code",
   "execution_count": null,
   "metadata": {},
   "outputs": [],
   "source": [
    "respondents_df = pd.DataFrame(index_person, columns=[\"index\", \"respondent\", \"gkbid\"])\n",
    "respondents_df.set_index(\"index\")\n",
    "respondents_df.index.astype(int)\n",
    "respondents_df"
   ]
  },
  {
   "cell_type": "code",
   "execution_count": null,
   "metadata": {},
   "outputs": [],
   "source": [
    "# Vrátíme osoby do původního dataframu. Grupujeme si osoby podle indexu.\n",
    "merged_respondents_df = respondents_df.groupby([\"index\"])\n",
    "merged_respondents_df = merged_respondents_df['respondent'].apply(';'.join)\n",
    "merged_respondents_df.reset_index().set_index(\"index\")\n",
    "merged_respondents_df = pd.DataFrame(merged_respondents_df)\n",
    "merged_respondents_df"
   ]
  },
  {
   "cell_type": "code",
   "execution_count": null,
   "metadata": {},
   "outputs": [],
   "source": [
    "merged_respondents_df.index = merged_respondents_df.index.astype(int)\n",
    "print(merged_respondents_df.index.dtype)\n",
    "\n",
    "# Iterace: Tohle je pěkná blbost z hlediska rychlosti, ale merge nějak nefungoval.\n",
    "# Nicméně smyčka funguje a zjistili jsme, že indexy neměli správny typ, proto původní merge nefungoval.\n",
    "# nechávám jako důkaz a připomínku vlastní blbosti.\n",
    "# for row in df.iterrows():\n",
    "#     if row[0] in merged_respondents_df.index:\n",
    "#         print(row[0], merged_respondents_df.loc[row[0]])"
   ]
  },
  {
   "cell_type": "code",
   "execution_count": null,
   "metadata": {},
   "outputs": [],
   "source": [
    "final_df = df.join(merged_respondents_df)"
   ]
  },
  {
   "cell_type": "code",
   "execution_count": null,
   "metadata": {},
   "outputs": [],
   "source": [
    "final_df.to_csv(DATA / \"final.csv\")"
   ]
  },
  {
   "attachments": {},
   "cell_type": "markdown",
   "metadata": {},
   "source": [
    "### Zjisti funkce osob pomocí Geneea\n",
    "\n",
    "**Nyní nemám přístup k této funkcionalitě.**\n",
    "\n",
    "Zjistíme funkce pro všechny rozpoznané osoby. Prozatím negunguje / access denied"
   ]
  },
  {
   "cell_type": "code",
   "execution_count": null,
   "metadata": {},
   "outputs": [],
   "source": [
    "\n",
    "ids = respondents_df[\"gkbid\"].to_list()\n",
    "data_input = {\n",
    "    \"ids\": ids,\n",
    "    \"language\": \"cs\",\n",
    "}\n",
    "\n",
    "result = requests.post(f'{BASE_URL}knowledgebase/infoboxes', json=data_input, headers=HEADERS)\n",
    "result.content"
   ]
  }
 ],
 "metadata": {
  "kernelspec": {
   "display_name": ".venv",
   "language": "python",
   "name": "python3"
  },
  "language_info": {
   "codemirror_mode": {
    "name": "ipython",
    "version": 3
   },
   "file_extension": ".py",
   "mimetype": "text/x-python",
   "name": "python",
   "nbconvert_exporter": "python",
   "pygments_lexer": "ipython3",
   "version": "3.11.0 (main, Oct 24 2022, 18:26:48) [MSC v.1933 64 bit (AMD64)]"
  },
  "orig_nbformat": 4,
  "vscode": {
   "interpreter": {
    "hash": "176624e92fd32b30b3dd28b2fffc61fab9be656296c97860344b846bd2b1f923"
   }
  }
 },
 "nbformat": 4,
 "nbformat_minor": 2
}
