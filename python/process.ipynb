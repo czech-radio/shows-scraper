{
 "cells": [
  {
   "attachments": {},
   "cell_type": "markdown",
   "metadata": {},
   "source": [
    "# Zpracování a prezentace dat\n",
    "\n",
    "Notebook pro získání moderátorů a respondentů zastoupených ve vybraných pořadech vysílání Českého rozhlasu.  "
   ]
  },
  {
   "attachments": {},
   "cell_type": "markdown",
   "metadata": {},
   "source": [
    "## Knihovny"
   ]
  },
  {
   "cell_type": "code",
   "execution_count": 1,
   "metadata": {},
   "outputs": [],
   "source": [
    "import csv\n",
    "import math\n",
    "import os\n",
    "\n",
    "import pandas as pd\n",
    "import requests\n",
    "import cro.schedule as schedule\n",
    "from pathlib import Path\n",
    "\n",
    "\n",
    "DATA = Path(\"../data\")\n",
    "\n",
    "# import sys\n",
    "#!{sys.executable} -m pip install scrapy\n",
    "# import sys; sys.path\n",
    "# import numpy; numpy.__path__"
   ]
  },
  {
   "attachments": {},
   "cell_type": "markdown",
   "metadata": {},
   "source": [
    "## Konfigurace\n",
    "\n",
    "Od uživatele chceme aby zadal požadované období (dny) pro které budeme provádět analýzu.\n",
    "\n",
    "### Vstup od uživatele"
   ]
  },
  {
   "cell_type": "code",
   "execution_count": 2,
   "metadata": {},
   "outputs": [
    {
     "name": "stdout",
     "output_type": "stream",
     "text": [
      "['2023-04-1', '2023-04-2', '2023-04-3', '2023-04-4', '2023-04-5', '2023-04-6', '2023-04-7', '2023-04-8', '2023-04-9', '2023-04-10', '2023-04-11', '2023-04-12', '2023-04-13', '2023-04-14', '2023-04-15', '2023-04-16', '2023-04-17', '2023-04-18', '2023-04-19', '2023-04-20', '2023-04-21', '2023-04-22', '2023-04-23', '2023-04-24', '2023-04-25', '2023-04-26', '2023-04-27', '2023-04-28', '2023-04-29']\n"
     ]
    }
   ],
   "source": [
    "dates = [f\"2023-04-{i}\" for i in range(1, 30)]\n",
    "\n",
    "print(dates)"
   ]
  },
  {
   "attachments": {},
   "cell_type": "markdown",
   "metadata": {},
   "source": [
    "## Zpracování"
   ]
  },
  {
   "attachments": {},
   "cell_type": "markdown",
   "metadata": {},
   "source": [
    "### Získej program pro stanici Plus a Radiožurnál"
   ]
  },
  {
   "cell_type": "code",
   "execution_count": 3,
   "metadata": {},
   "outputs": [],
   "source": [
    "client = schedule.Client(\"plus\")\n",
    "schedules_ps = list(client.get_day_schedule(date) for date in dates)"
   ]
  },
  {
   "cell_type": "code",
   "execution_count": 4,
   "metadata": {},
   "outputs": [],
   "source": [
    "client = schedule.Client(\"radiozurnal\")\n",
    "schedules_rz = list(client.get_day_schedule(date) for date in dates)"
   ]
  },
  {
   "cell_type": "code",
   "execution_count": 5,
   "metadata": {},
   "outputs": [
    {
     "name": "stdout",
     "output_type": "stream",
     "text": [
      "Schedule(station=Radiožurnál, date=2023-04-01, shows=84)\n",
      "Schedule(station=Radiožurnál, date=2023-04-02, shows=83)\n",
      "Schedule(station=Radiožurnál, date=2023-04-03, shows=88)\n",
      "Schedule(station=Radiožurnál, date=2023-04-04, shows=88)\n",
      "Schedule(station=Radiožurnál, date=2023-04-05, shows=89)\n",
      "Schedule(station=Radiožurnál, date=2023-04-06, shows=87)\n",
      "Schedule(station=Radiožurnál, date=2023-04-07, shows=83)\n",
      "Schedule(station=Radiožurnál, date=2023-04-08, shows=83)\n",
      "Schedule(station=Radiožurnál, date=2023-04-09, shows=82)\n",
      "Schedule(station=Radiožurnál, date=2023-04-10, shows=81)\n",
      "Schedule(station=Radiožurnál, date=2023-04-11, shows=88)\n",
      "Schedule(station=Radiožurnál, date=2023-04-12, shows=86)\n",
      "Schedule(station=Radiožurnál, date=2023-04-13, shows=89)\n",
      "Schedule(station=Radiožurnál, date=2023-04-14, shows=89)\n",
      "Schedule(station=Radiožurnál, date=2023-04-15, shows=79)\n",
      "Schedule(station=Radiožurnál, date=2023-04-16, shows=82)\n",
      "Schedule(station=Radiožurnál, date=2023-04-17, shows=87)\n",
      "Schedule(station=Radiožurnál, date=2023-04-18, shows=88)\n",
      "Schedule(station=Radiožurnál, date=2023-04-19, shows=89)\n",
      "Schedule(station=Radiožurnál, date=2023-04-20, shows=90)\n",
      "Schedule(station=Radiožurnál, date=2023-04-21, shows=89)\n",
      "Schedule(station=Radiožurnál, date=2023-04-22, shows=83)\n",
      "Schedule(station=Radiožurnál, date=2023-04-23, shows=82)\n",
      "Schedule(station=Radiožurnál, date=2023-04-24, shows=87)\n",
      "Schedule(station=Radiožurnál, date=2023-04-25, shows=89)\n",
      "Schedule(station=Radiožurnál, date=2023-04-26, shows=89)\n",
      "Schedule(station=Radiožurnál, date=2023-04-27, shows=89)\n",
      "Schedule(station=Radiožurnál, date=2023-04-28, shows=87)\n",
      "Schedule(station=Radiožurnál, date=2023-04-29, shows=82)\n",
      "Schedule(station=Plus, date=2023-04-01, shows=85)\n",
      "Schedule(station=Plus, date=2023-04-02, shows=85)\n",
      "Schedule(station=Plus, date=2023-04-03, shows=87)\n",
      "Schedule(station=Plus, date=2023-04-04, shows=87)\n",
      "Schedule(station=Plus, date=2023-04-05, shows=84)\n",
      "Schedule(station=Plus, date=2023-04-06, shows=83)\n",
      "Schedule(station=Plus, date=2023-04-07, shows=82)\n",
      "Schedule(station=Plus, date=2023-04-08, shows=81)\n",
      "Schedule(station=Plus, date=2023-04-09, shows=81)\n",
      "Schedule(station=Plus, date=2023-04-10, shows=80)\n",
      "Schedule(station=Plus, date=2023-04-11, shows=86)\n",
      "Schedule(station=Plus, date=2023-04-12, shows=84)\n",
      "Schedule(station=Plus, date=2023-04-13, shows=85)\n",
      "Schedule(station=Plus, date=2023-04-14, shows=86)\n",
      "Schedule(station=Plus, date=2023-04-15, shows=86)\n",
      "Schedule(station=Plus, date=2023-04-16, shows=86)\n",
      "Schedule(station=Plus, date=2023-04-17, shows=88)\n",
      "Schedule(station=Plus, date=2023-04-18, shows=86)\n",
      "Schedule(station=Plus, date=2023-04-19, shows=84)\n",
      "Schedule(station=Plus, date=2023-04-20, shows=85)\n",
      "Schedule(station=Plus, date=2023-04-21, shows=88)\n",
      "Schedule(station=Plus, date=2023-04-22, shows=86)\n",
      "Schedule(station=Plus, date=2023-04-23, shows=84)\n",
      "Schedule(station=Plus, date=2023-04-24, shows=86)\n",
      "Schedule(station=Plus, date=2023-04-25, shows=87)\n",
      "Schedule(station=Plus, date=2023-04-26, shows=84)\n",
      "Schedule(station=Plus, date=2023-04-27, shows=85)\n",
      "Schedule(station=Plus, date=2023-04-28, shows=87)\n",
      "Schedule(station=Plus, date=2023-04-29, shows=88)\n"
     ]
    }
   ],
   "source": [
    "schedules = schedules_rz + schedules_ps\n",
    "\n",
    "for s in schedules:\n",
    "    print(s)"
   ]
  },
  {
   "attachments": {},
   "cell_type": "markdown",
   "metadata": {},
   "source": [
    "### Vyber jen požadované pořady"
   ]
  },
  {
   "cell_type": "code",
   "execution_count": 6,
   "metadata": {},
   "outputs": [],
   "source": [
    "schedule_data = []\n",
    "\n",
    "for schedule in schedules:\n",
    "    for index, show in enumerate(schedule.shows):\n",
    "        if len(show.moderators) == 0:\n",
    "            moderators = \"\"\n",
    "        else:\n",
    "            moderators = \";\".join(p.name for p in show.moderators)\n",
    "        relation_type = \"repríza\" if show.repetition else \"premiéra\"\n",
    "\n",
    "        line = dict(\n",
    "            station_name=show.station.name,\n",
    "            show_type=show.type,\n",
    "            show_kind_name=show.kind.name,\n",
    "            show_description=show.description,\n",
    "            show_id=show.id,\n",
    "            show_title=show.title,\n",
    "            show_date=show.date,\n",
    "            show_since=show.since,\n",
    "            show_till=show.till,\n",
    "            relation_type=relation_type,\n",
    "            show_duration_minutes=math.ceil(show.duration / 60),\n",
    "            moderators=moderators,\n",
    "        )\n",
    "\n",
    "        schedule_data.append(line)"
   ]
  },
  {
   "attachments": {},
   "cell_type": "markdown",
   "metadata": {},
   "source": [
    "### Ulož program do CSV pro další zpracování"
   ]
  },
  {
   "cell_type": "code",
   "execution_count": 7,
   "metadata": {},
   "outputs": [],
   "source": [
    "# Uložíme CSV pro další zpracování.\n",
    "with open(DATA / \"schedule.csv\", mode=\"w\") as file:\n",
    "    writer = csv.DictWriter(file, fieldnames=schedule_data[0].keys())\n",
    "    writer.writeheader()\n",
    "    writer.writerows(schedule_data)"
   ]
  },
  {
   "attachments": {},
   "cell_type": "markdown",
   "metadata": {},
   "source": [
    "---\n",
    "**ZAČNI ZDE, POKUD CHCEŠ PRACOVAT S JIŽ ULOŽENÝM PROGRAMEM**"
   ]
  },
  {
   "cell_type": "code",
   "execution_count": 8,
   "metadata": {},
   "outputs": [],
   "source": [
    "SHOWS_WANTED = (\n",
    "    \"Pro a proti\",\n",
    "    \"Interview Plus\",\n",
    "    \"Rozhovory a komentáře\",\n",
    "    \"Dvacet minut Radiožurnálu\",\n",
    "    \"Hlavní zprávy - rozhovory a komentáře\",\n",
    "    \"Speciál\",\n",
    ")"
   ]
  },
  {
   "attachments": {},
   "cell_type": "markdown",
   "metadata": {},
   "source": [
    "### Načti program a získej premiéry\n",
    "\n",
    "- Načteme data do tabulky a aplikujeme voodoo a černou magii.\n",
    "  - Vybereme pouze premiéry pořadů.\n",
    "- Respondenty získáme pomocí parsování a služby Geneea (*entity recognition*).\n"
   ]
  },
  {
   "cell_type": "code",
   "execution_count": 9,
   "metadata": {},
   "outputs": [],
   "source": [
    "df = pd.read_csv(DATA / \"schedule.csv\")\n",
    "df = df[df.relation_type == \"premiéra\"]  # FIXME"
   ]
  },
  {
   "attachments": {},
   "cell_type": "markdown",
   "metadata": {},
   "source": [
    "### Ukaž unikátní názvy pořadů "
   ]
  },
  {
   "cell_type": "code",
   "execution_count": 10,
   "metadata": {},
   "outputs": [
    {
     "name": "stdout",
     "output_type": "stream",
     "text": [
      "POŘADY STANICE PLUS:\n",
      " {'Týden Plus', 'Radiokniha', 'Zaostřeno', 'Za obzorem', 'Online Plus', 'Knížky Plus', 'Dvacet minut Radiožurnálu', 'Odpolední Plus', 'Pro a proti', 'Zprávy v angličtině/News in English', 'Peníze a vliv', 'Historie Plus', 'Bruselské chlebíčky', 'Osobnost Plus', 'Svět ve 20 minutách', 'Mezi námi', 'Hlavní zprávy - rozhovory, komentáře', 'Kultura Plus', 'Leonardo Plus', 'Chyba systému', 'RozhlaSTO', 'Názory a argumenty', 'Ranní Plus', 'Jak to bylo doopravdy', 'Vertikála', 'Portréty', 'Studio Leonardo', 'Téma Plus', 'Hovory', 'Ex libris', 'Souvislosti Plus', 'Příběhy 20. století', 'Řečí peněz', 'Natura', 'Dvacítka Radiožurnálu', 'Interview Plus', 'Zprávy', 'Život k nezaplacení', 'Archiv Plus', 'Reportáže zahraničních zpravodajů', 'Speciál', 'Dokument Plus', 'Hlavní zprávy', 'Vinohradská 12', 'Laboratoř', 'Zprávy v půl'}\n",
      "POŘADY STANICE RADIOŽURNÁL:\n",
      " {'Vznik nové knihovny Milana Kundery v Brně', 'Dvacet minut Radiožurnálu', 'Noční Radiožurnál', 'Fotbal: AC Sparta Praha - SK Slavia Praha', 'Ranní interview', 'Příběhy 20. století - 2. část', 'Zápisník zahraničních zpravodajů', 'Víkendový Ranní Radiožurnál', 'CENY HANZELKY A ZIKMUNDA', 'Host Radiožurnálu', 'Odpolední Radiožurnál', 'Speciál Radiožurnálu', 'Stretnutie', 'Večerní Radiožurnál', '100 LET ROZHLASU - Neviditelný herec století', 'Byznys dnes', 'Příběhy 20. století - 1. část', 'Hlavní zprávy - rozhovory a komentáře', 'Minispeciál Radiožurnálu', 'Zprávy', 'Život k nezaplacení', 'Víkendový Radiožurnál', 'Host Lucie Výborné', 'Hlavní zprávy', 'Večerní Host Radiožurnálu', 'O Roma vakeren', 'Sportžurnál', 'Dopolední Radiožurnál', 'Ranní Radiožurnál', 'Experiment'}\n"
     ]
    }
   ],
   "source": [
    "shows_ps = set(df[df[\"station_name\"] == \"Plus\"][\"show_title\"].to_list())\n",
    "shows_rz = set(df[df[\"station_name\"] == \"Radiožurnál\"][\"show_title\"].to_list())\n",
    "\n",
    "print(\"POŘADY STANICE PLUS:\\n\", shows_ps)\n",
    "print(\"POŘADY STANICE RADIOŽURNÁL:\\n\", shows_rz)"
   ]
  },
  {
   "cell_type": "code",
   "execution_count": 11,
   "metadata": {},
   "outputs": [
    {
     "data": {
      "text/html": [
       "<div>\n",
       "<style scoped>\n",
       "    .dataframe tbody tr th:only-of-type {\n",
       "        vertical-align: middle;\n",
       "    }\n",
       "\n",
       "    .dataframe tbody tr th {\n",
       "        vertical-align: top;\n",
       "    }\n",
       "\n",
       "    .dataframe thead th {\n",
       "        text-align: right;\n",
       "    }\n",
       "</style>\n",
       "<table border=\"1\" class=\"dataframe\">\n",
       "  <thead>\n",
       "    <tr style=\"text-align: right;\">\n",
       "      <th></th>\n",
       "      <th>station_name</th>\n",
       "      <th>show_type</th>\n",
       "      <th>show_kind_name</th>\n",
       "      <th>show_description</th>\n",
       "      <th>show_id</th>\n",
       "      <th>show_title</th>\n",
       "      <th>show_date</th>\n",
       "      <th>show_since</th>\n",
       "      <th>show_till</th>\n",
       "      <th>relation_type</th>\n",
       "      <th>show_duration_minutes</th>\n",
       "      <th>moderators</th>\n",
       "    </tr>\n",
       "  </thead>\n",
       "  <tbody>\n",
       "    <tr>\n",
       "      <th>45</th>\n",
       "      <td>Radiožurnál</td>\n",
       "      <td>AFTERNOON</td>\n",
       "      <td>Zpravodajství</td>\n",
       "      <td>O všem, co se právě děje</td>\n",
       "      <td>18615603</td>\n",
       "      <td>Hlavní zprávy - rozhovory a komentáře</td>\n",
       "      <td>2023-04-01</td>\n",
       "      <td>12:09:47</td>\n",
       "      <td>12:30:00</td>\n",
       "      <td>premiéra</td>\n",
       "      <td>21</td>\n",
       "      <td>NaN</td>\n",
       "    </tr>\n",
       "    <tr>\n",
       "      <th>129</th>\n",
       "      <td>Radiožurnál</td>\n",
       "      <td>AFTERNOON</td>\n",
       "      <td>Zpravodajství</td>\n",
       "      <td>O všem, co se právě děje</td>\n",
       "      <td>18615787</td>\n",
       "      <td>Hlavní zprávy - rozhovory a komentáře</td>\n",
       "      <td>2023-04-02</td>\n",
       "      <td>12:09:18</td>\n",
       "      <td>12:30:00</td>\n",
       "      <td>premiéra</td>\n",
       "      <td>21</td>\n",
       "      <td>NaN</td>\n",
       "    </tr>\n",
       "    <tr>\n",
       "      <th>215</th>\n",
       "      <td>Radiožurnál</td>\n",
       "      <td>AFTERNOON</td>\n",
       "      <td>Zpravodajství</td>\n",
       "      <td>O všem, co se právě děje</td>\n",
       "      <td>18638357</td>\n",
       "      <td>Hlavní zprávy - rozhovory a komentáře</td>\n",
       "      <td>2023-04-03</td>\n",
       "      <td>12:10:00</td>\n",
       "      <td>12:30:00</td>\n",
       "      <td>premiéra</td>\n",
       "      <td>20</td>\n",
       "      <td>NaN</td>\n",
       "    </tr>\n",
       "    <tr>\n",
       "      <th>233</th>\n",
       "      <td>Radiožurnál</td>\n",
       "      <td>AFTERNOON</td>\n",
       "      <td>Publicistika</td>\n",
       "      <td>Hostem je Hana Kordová Marvanová, právnička a ...</td>\n",
       "      <td>18638395</td>\n",
       "      <td>Dvacet minut Radiožurnálu</td>\n",
       "      <td>2023-04-03</td>\n",
       "      <td>17:06:00</td>\n",
       "      <td>17:30:00</td>\n",
       "      <td>premiéra</td>\n",
       "      <td>24</td>\n",
       "      <td>Tomáš Pancíř</td>\n",
       "    </tr>\n",
       "    <tr>\n",
       "      <th>236</th>\n",
       "      <td>Radiožurnál</td>\n",
       "      <td>EVENING</td>\n",
       "      <td>Zpravodajství</td>\n",
       "      <td>O všem, co se právě děje</td>\n",
       "      <td>18638402</td>\n",
       "      <td>Hlavní zprávy - rozhovory a komentáře</td>\n",
       "      <td>2023-04-03</td>\n",
       "      <td>18:10:59</td>\n",
       "      <td>18:30:00</td>\n",
       "      <td>premiéra</td>\n",
       "      <td>20</td>\n",
       "      <td>NaN</td>\n",
       "    </tr>\n",
       "    <tr>\n",
       "      <th>...</th>\n",
       "      <td>...</td>\n",
       "      <td>...</td>\n",
       "      <td>...</td>\n",
       "      <td>...</td>\n",
       "      <td>...</td>\n",
       "      <td>...</td>\n",
       "      <td>...</td>\n",
       "      <td>...</td>\n",
       "      <td>...</td>\n",
       "      <td>...</td>\n",
       "      <td>...</td>\n",
       "      <td>...</td>\n",
       "    </tr>\n",
       "    <tr>\n",
       "      <th>4076</th>\n",
       "      <td>Plus</td>\n",
       "      <td>AFTERNOON</td>\n",
       "      <td>Publicistika</td>\n",
       "      <td>Hostem je Martin Pýcha, předseda Zemědělského ...</td>\n",
       "      <td>18604814</td>\n",
       "      <td>Dvacet minut Radiožurnálu</td>\n",
       "      <td>2023-04-19</td>\n",
       "      <td>17:06:00</td>\n",
       "      <td>17:30:00</td>\n",
       "      <td>premiéra</td>\n",
       "      <td>24</td>\n",
       "      <td>NaN</td>\n",
       "    </tr>\n",
       "    <tr>\n",
       "      <th>4130</th>\n",
       "      <td>Plus</td>\n",
       "      <td>MORNING</td>\n",
       "      <td>Publicistika</td>\n",
       "      <td>Ministr práce a sociálních věcí Marian Jurečka...</td>\n",
       "      <td>18604879</td>\n",
       "      <td>Pro a proti</td>\n",
       "      <td>2023-04-20</td>\n",
       "      <td>09:34:59</td>\n",
       "      <td>09:59:10</td>\n",
       "      <td>premiéra</td>\n",
       "      <td>25</td>\n",
       "      <td>Karolína Koubová</td>\n",
       "    </tr>\n",
       "    <tr>\n",
       "      <th>4138</th>\n",
       "      <td>Plus</td>\n",
       "      <td>NOON</td>\n",
       "      <td>Publicistika</td>\n",
       "      <td>Pavel Klíma, poslanec z TOP09. Podle úpravy na...</td>\n",
       "      <td>18604891</td>\n",
       "      <td>Interview Plus</td>\n",
       "      <td>2023-04-20</td>\n",
       "      <td>11:33:31</td>\n",
       "      <td>12:00:00</td>\n",
       "      <td>premiéra</td>\n",
       "      <td>27</td>\n",
       "      <td>Jan Bumba</td>\n",
       "    </tr>\n",
       "    <tr>\n",
       "      <th>4159</th>\n",
       "      <td>Plus</td>\n",
       "      <td>AFTERNOON</td>\n",
       "      <td>Publicistika</td>\n",
       "      <td>Hostem je Martin Krsek, historik a senátor. Zh...</td>\n",
       "      <td>18604922</td>\n",
       "      <td>Dvacet minut Radiožurnálu</td>\n",
       "      <td>2023-04-20</td>\n",
       "      <td>17:06:00</td>\n",
       "      <td>17:30:00</td>\n",
       "      <td>premiéra</td>\n",
       "      <td>24</td>\n",
       "      <td>NaN</td>\n",
       "    </tr>\n",
       "    <tr>\n",
       "      <th>4214</th>\n",
       "      <td>Plus</td>\n",
       "      <td>MORNING</td>\n",
       "      <td>Publicistika</td>\n",
       "      <td>Plýtvání potravinami. Společné vysílání Radiož...</td>\n",
       "      <td>18675054</td>\n",
       "      <td>Speciál</td>\n",
       "      <td>2023-04-21</td>\n",
       "      <td>08:34:13</td>\n",
       "      <td>09:00:00</td>\n",
       "      <td>premiéra</td>\n",
       "      <td>26</td>\n",
       "      <td>NaN</td>\n",
       "    </tr>\n",
       "  </tbody>\n",
       "</table>\n",
       "<p>100 rows × 12 columns</p>\n",
       "</div>"
      ],
      "text/plain": [
       "     station_name  show_type show_kind_name   \n",
       "45    Radiožurnál  AFTERNOON  Zpravodajství  \\\n",
       "129   Radiožurnál  AFTERNOON  Zpravodajství   \n",
       "215   Radiožurnál  AFTERNOON  Zpravodajství   \n",
       "233   Radiožurnál  AFTERNOON   Publicistika   \n",
       "236   Radiožurnál    EVENING  Zpravodajství   \n",
       "...           ...        ...            ...   \n",
       "4076         Plus  AFTERNOON   Publicistika   \n",
       "4130         Plus    MORNING   Publicistika   \n",
       "4138         Plus       NOON   Publicistika   \n",
       "4159         Plus  AFTERNOON   Publicistika   \n",
       "4214         Plus    MORNING   Publicistika   \n",
       "\n",
       "                                       show_description   show_id   \n",
       "45                             O všem, co se právě děje  18615603  \\\n",
       "129                            O všem, co se právě děje  18615787   \n",
       "215                            O všem, co se právě děje  18638357   \n",
       "233   Hostem je Hana Kordová Marvanová, právnička a ...  18638395   \n",
       "236                            O všem, co se právě děje  18638402   \n",
       "...                                                 ...       ...   \n",
       "4076  Hostem je Martin Pýcha, předseda Zemědělského ...  18604814   \n",
       "4130  Ministr práce a sociálních věcí Marian Jurečka...  18604879   \n",
       "4138  Pavel Klíma, poslanec z TOP09. Podle úpravy na...  18604891   \n",
       "4159  Hostem je Martin Krsek, historik a senátor. Zh...  18604922   \n",
       "4214  Plýtvání potravinami. Společné vysílání Radiož...  18675054   \n",
       "\n",
       "                                 show_title   show_date show_since show_till   \n",
       "45    Hlavní zprávy - rozhovory a komentáře  2023-04-01   12:09:47  12:30:00  \\\n",
       "129   Hlavní zprávy - rozhovory a komentáře  2023-04-02   12:09:18  12:30:00   \n",
       "215   Hlavní zprávy - rozhovory a komentáře  2023-04-03   12:10:00  12:30:00   \n",
       "233               Dvacet minut Radiožurnálu  2023-04-03   17:06:00  17:30:00   \n",
       "236   Hlavní zprávy - rozhovory a komentáře  2023-04-03   18:10:59  18:30:00   \n",
       "...                                     ...         ...        ...       ...   \n",
       "4076              Dvacet minut Radiožurnálu  2023-04-19   17:06:00  17:30:00   \n",
       "4130                            Pro a proti  2023-04-20   09:34:59  09:59:10   \n",
       "4138                         Interview Plus  2023-04-20   11:33:31  12:00:00   \n",
       "4159              Dvacet minut Radiožurnálu  2023-04-20   17:06:00  17:30:00   \n",
       "4214                                Speciál  2023-04-21   08:34:13  09:00:00   \n",
       "\n",
       "     relation_type  show_duration_minutes        moderators  \n",
       "45        premiéra                     21               NaN  \n",
       "129       premiéra                     21               NaN  \n",
       "215       premiéra                     20               NaN  \n",
       "233       premiéra                     24      Tomáš Pancíř  \n",
       "236       premiéra                     20               NaN  \n",
       "...            ...                    ...               ...  \n",
       "4076      premiéra                     24               NaN  \n",
       "4130      premiéra                     25  Karolína Koubová  \n",
       "4138      premiéra                     27         Jan Bumba  \n",
       "4159      premiéra                     24               NaN  \n",
       "4214      premiéra                     26               NaN  \n",
       "\n",
       "[100 rows x 12 columns]"
      ]
     },
     "execution_count": 11,
     "metadata": {},
     "output_type": "execute_result"
    }
   ],
   "source": [
    "# Vyber pouze sledované pořady\n",
    "df = df[df[\"show_title\"].isin(SHOWS_WANTED)]  # FIXME\n",
    "df.head(100)"
   ]
  },
  {
   "attachments": {},
   "cell_type": "markdown",
   "metadata": {},
   "source": [
    "## Kontrola\n",
    "\n",
    "Zkontrolujeme si, jestli máme očekávaný počet premiér pořadů (nyní za měsíc):\n",
    "- Dvacet minut Radiožurnálu: 23 (premiér/březen) * 2 (stanic) = 46 premiér / březen (23 na Radiožurnálu)\n",
    "- Interview Plus: 23 (premiér/březen) * 1 (stanic) = 23 premiér / březen\n",
    "- Pro a proti: 23 (premiér/březen) * 1 (stanic) = 23 premiér / březen\n",
    "- Hlavní zprávy - rozhovory a komentáře: 23 * 2 (dvakrát za prac. den) * 2 (stanic) = 92 (46 na Radiožurnálu)\n"
   ]
  },
  {
   "cell_type": "code",
   "execution_count": 12,
   "metadata": {},
   "outputs": [
    {
     "data": {
      "text/plain": [
       "118"
      ]
     },
     "execution_count": 12,
     "metadata": {},
     "output_type": "execute_result"
    }
   ],
   "source": [
    "# Kolik máme řádků/premiér pořadů (epizod).\n",
    "len(df)"
   ]
  },
  {
   "cell_type": "code",
   "execution_count": 13,
   "metadata": {},
   "outputs": [
    {
     "name": "stdout",
     "output_type": "stream",
     "text": [
      "Očekávaný počet premiér 'Dvacet minut Radiožurnálu' odpovídá: False\n",
      "Očekávaný počet premiér 'Interview Plus' odpovídá: False\n",
      "Očekávaný počet premiér 'Pro a proti' odpovídá: False\n",
      "Očekávaný počet premiér 'Hlavní zprávy - rozhovory a komentáře' odpovídá: True 46\n"
     ]
    }
   ],
   "source": [
    "#  Na Plusu se premiéry objevují jen pro dva dny v týdnu, zřejmě můžeme Plus úplně vyfiltrovat.\n",
    "df = df[\n",
    "    ~(\n",
    "        (df[\"show_title\"] == \"Dvacet minut Radiožurnálu\")\n",
    "        & (df[\"station_name\"] == \"Plus\")\n",
    "    )\n",
    "]\n",
    "df = df[\n",
    "    ~(\n",
    "        (df[\"show_title\"] == \"Hlavní zprávy - rozhovory a komentáře\")\n",
    "        & (df[\"station_name\"] == \"Plus\")\n",
    "    )\n",
    "]\n",
    "\n",
    "print(\n",
    "    \"Očekávaný počet premiér 'Dvacet minut Radiožurnálu' odpovídá:\",\n",
    "    len(df[df[\"show_title\"] == \"Dvacet minut Radiožurnálu\"]) == 23,\n",
    ")\n",
    "print(\n",
    "    \"Očekávaný počet premiér 'Interview Plus' odpovídá:\",\n",
    "    len(df[df[\"show_title\"] == \"Interview Plus\"]) == 23,\n",
    ")\n",
    "print(\n",
    "    \"Očekávaný počet premiér 'Pro a proti' odpovídá:\",\n",
    "    len(df[df[\"show_title\"] == \"Pro a proti\"]) == 23,\n",
    ")\n",
    "print(\n",
    "    \"Očekávaný počet premiér 'Hlavní zprávy - rozhovory a komentáře' odpovídá:\",\n",
    "    len(df[df[\"show_title\"] == \"Hlavní zprávy - rozhovory a komentáře\"]) == 46,\n",
    "    len(df[df[\"show_title\"] == \"Hlavní zprávy - rozhovory a komentáře\"]),\n",
    ")\n",
    "\n",
    "# df[df[\"show_title\"] ==  \"Hlavní zprávy - rozhovory a komentáře\" ].head(100)"
   ]
  },
  {
   "attachments": {},
   "cell_type": "markdown",
   "metadata": {},
   "source": []
  },
  {
   "attachments": {},
   "cell_type": "markdown",
   "metadata": {},
   "source": [
    "### Získej popis epizod pro NLP analýzu"
   ]
  },
  {
   "cell_type": "code",
   "execution_count": 14,
   "metadata": {},
   "outputs": [],
   "source": [
    "index_description_df = df[[\"show_title\", \"show_description\"]]"
   ]
  },
  {
   "attachments": {},
   "cell_type": "markdown",
   "metadata": {},
   "source": [
    "#### Ukázka záznamů"
   ]
  },
  {
   "cell_type": "code",
   "execution_count": 15,
   "metadata": {},
   "outputs": [
    {
     "data": {
      "text/html": [
       "<div>\n",
       "<style scoped>\n",
       "    .dataframe tbody tr th:only-of-type {\n",
       "        vertical-align: middle;\n",
       "    }\n",
       "\n",
       "    .dataframe tbody tr th {\n",
       "        vertical-align: top;\n",
       "    }\n",
       "\n",
       "    .dataframe thead th {\n",
       "        text-align: right;\n",
       "    }\n",
       "</style>\n",
       "<table border=\"1\" class=\"dataframe\">\n",
       "  <thead>\n",
       "    <tr style=\"text-align: right;\">\n",
       "      <th></th>\n",
       "      <th>show_title</th>\n",
       "      <th>show_description</th>\n",
       "    </tr>\n",
       "  </thead>\n",
       "  <tbody>\n",
       "    <tr>\n",
       "      <th>45</th>\n",
       "      <td>Hlavní zprávy - rozhovory a komentáře</td>\n",
       "      <td>O všem, co se právě děje</td>\n",
       "    </tr>\n",
       "    <tr>\n",
       "      <th>129</th>\n",
       "      <td>Hlavní zprávy - rozhovory a komentáře</td>\n",
       "      <td>O všem, co se právě děje</td>\n",
       "    </tr>\n",
       "    <tr>\n",
       "      <th>215</th>\n",
       "      <td>Hlavní zprávy - rozhovory a komentáře</td>\n",
       "      <td>O všem, co se právě děje</td>\n",
       "    </tr>\n",
       "    <tr>\n",
       "      <th>233</th>\n",
       "      <td>Dvacet minut Radiožurnálu</td>\n",
       "      <td>Hostem je Hana Kordová Marvanová, právnička a ...</td>\n",
       "    </tr>\n",
       "    <tr>\n",
       "      <th>236</th>\n",
       "      <td>Hlavní zprávy - rozhovory a komentáře</td>\n",
       "      <td>O všem, co se právě děje</td>\n",
       "    </tr>\n",
       "  </tbody>\n",
       "</table>\n",
       "</div>"
      ],
      "text/plain": [
       "                                show_title   \n",
       "45   Hlavní zprávy - rozhovory a komentáře  \\\n",
       "129  Hlavní zprávy - rozhovory a komentáře   \n",
       "215  Hlavní zprávy - rozhovory a komentáře   \n",
       "233              Dvacet minut Radiožurnálu   \n",
       "236  Hlavní zprávy - rozhovory a komentáře   \n",
       "\n",
       "                                      show_description  \n",
       "45                            O všem, co se právě děje  \n",
       "129                           O všem, co se právě děje  \n",
       "215                           O všem, co se právě děje  \n",
       "233  Hostem je Hana Kordová Marvanová, právnička a ...  \n",
       "236                           O všem, co se právě děje  "
      ]
     },
     "execution_count": 15,
     "metadata": {},
     "output_type": "execute_result"
    }
   ],
   "source": [
    "index_description_df.head(5)"
   ]
  },
  {
   "attachments": {},
   "cell_type": "markdown",
   "metadata": {},
   "source": [
    "#### Počet záznamů"
   ]
  },
  {
   "cell_type": "code",
   "execution_count": 16,
   "metadata": {},
   "outputs": [
    {
     "data": {
      "text/plain": [
       "104"
      ]
     },
     "execution_count": 16,
     "metadata": {},
     "output_type": "execute_result"
    }
   ],
   "source": [
    "len(index_description_df)"
   ]
  },
  {
   "attachments": {},
   "cell_type": "markdown",
   "metadata": {},
   "source": [
    "### Vytvoř objekty pro NLP analýzu\n",
    "\n",
    "Po potřeby Geneea Media V2 API vytvoříme JSON objekty, které zasíláme v dotazu. Jako index (atribut `id`) použijeme index řádku datového rámce, ten pak dostaneme po zpracování zpět. Tím můžeme získané entity opět spojit s původními řádky datového rámce. Pro jeden analyzovaný text můžeme dostat 0 až N rozpoznaných osob. Nekteré z nich mohou být moderátoři, ty se snažíme odfiltrovat pomocí daného seznamu."
   ]
  },
  {
   "cell_type": "code",
   "execution_count": 17,
   "metadata": {},
   "outputs": [],
   "source": [
    "inputs = []\n",
    "for i, record in index_description_df.iterrows():\n",
    "    inputs.append(\n",
    "        {\n",
    "            \"id\": i,\n",
    "            \"paraSpecs\": [{\"type\": \"text\", \"text\": record.show_description}],\n",
    "        }\n",
    "    )\n",
    "\n",
    "# Uložíme si vstupy pro přehled.\n",
    "# with open(DATA / \"test.txt\", mode=\"w\", encoding=\"utf8\") as f:\n",
    "# f.write(\"\\n\".join([str(i) for i in inputs]))"
   ]
  },
  {
   "cell_type": "code",
   "execution_count": 18,
   "metadata": {},
   "outputs": [],
   "source": [
    "BASE_URL = \"https://media-api.geneea.com/v2/\"\n",
    "HEADERS = {\"content-type\": \"application/json\", \"X-API-Key\": os.getenv(\"GENEEA_API_KEY\")}\n",
    "\n",
    "results = [\n",
    "    requests.post(f\"{BASE_URL}nlp/analyze\", json=input, headers=HEADERS).json()\n",
    "    for input in inputs\n",
    "]"
   ]
  },
  {
   "cell_type": "code",
   "execution_count": 19,
   "metadata": {},
   "outputs": [
    {
     "data": {
      "text/plain": [
       "True"
      ]
     },
     "execution_count": 19,
     "metadata": {},
     "output_type": "execute_result"
    }
   ],
   "source": [
    "len(results) == len(index_description_df)"
   ]
  },
  {
   "attachments": {},
   "cell_type": "markdown",
   "metadata": {},
   "source": [
    "### Uložíme  získané entity/osoby spolu s původním indexem záznamu \n",
    "\n",
    "Rozpoznaná entita má buď typ `person` nebo v některých případech typ `other`. To pak musíme hledat klíč `feats` a v něm dále `detectedType`. \n",
    "\n",
    "**Klíče nemusí existovat, proto testujeme jejich přítomnost!**"
   ]
  },
  {
   "cell_type": "code",
   "execution_count": 20,
   "metadata": {},
   "outputs": [],
   "source": [
    "index_person = []\n",
    "for result in results:\n",
    "    if \"entities\" in result:\n",
    "        for entity in result[\"entities\"]:\n",
    "            if entity[\"type\"] == \"person\":\n",
    "                index_person.append((result[\"id\"], entity[\"stdForm\"], entity[\"gkbId\"]))\n",
    "            if \"feats\" in entity:\n",
    "                if \"detectedType\" == entity[\"feats\"]:\n",
    "                    if entity[\"feats\"][\"detectedType\"] == \"person\":\n",
    "                        index_person.append(\n",
    "                            (result[\"id\"], entity[\"stdForm\"], entity[\"gkbId\"])\n",
    "                        )"
   ]
  },
  {
   "cell_type": "code",
   "execution_count": 21,
   "metadata": {},
   "outputs": [
    {
     "data": {
      "text/html": [
       "<div>\n",
       "<style scoped>\n",
       "    .dataframe tbody tr th:only-of-type {\n",
       "        vertical-align: middle;\n",
       "    }\n",
       "\n",
       "    .dataframe tbody tr th {\n",
       "        vertical-align: top;\n",
       "    }\n",
       "\n",
       "    .dataframe thead th {\n",
       "        text-align: right;\n",
       "    }\n",
       "</style>\n",
       "<table border=\"1\" class=\"dataframe\">\n",
       "  <thead>\n",
       "    <tr style=\"text-align: right;\">\n",
       "      <th></th>\n",
       "      <th>index</th>\n",
       "      <th>respondent</th>\n",
       "      <th>gkbid</th>\n",
       "    </tr>\n",
       "  </thead>\n",
       "  <tbody>\n",
       "    <tr>\n",
       "      <th>0</th>\n",
       "      <td>233</td>\n",
       "      <td>Hana Kordová Marvanová</td>\n",
       "      <td>G12018971</td>\n",
       "    </tr>\n",
       "    <tr>\n",
       "      <th>1</th>\n",
       "      <td>233</td>\n",
       "      <td>Petr Pavel</td>\n",
       "      <td>G2080040</td>\n",
       "    </tr>\n",
       "    <tr>\n",
       "      <th>2</th>\n",
       "      <td>233</td>\n",
       "      <td>Petr Pithart</td>\n",
       "      <td>G685676</td>\n",
       "    </tr>\n",
       "    <tr>\n",
       "      <th>3</th>\n",
       "      <td>322</td>\n",
       "      <td>Donald Trump</td>\n",
       "      <td>G22686</td>\n",
       "    </tr>\n",
       "    <tr>\n",
       "      <th>4</th>\n",
       "      <td>410</td>\n",
       "      <td>Hana Naiclerová</td>\n",
       "      <td>G77833405</td>\n",
       "    </tr>\n",
       "    <tr>\n",
       "      <th>...</th>\n",
       "      <td>...</td>\n",
       "      <td>...</td>\n",
       "      <td>...</td>\n",
       "    </tr>\n",
       "    <tr>\n",
       "      <th>84</th>\n",
       "      <td>4730</td>\n",
       "      <td>Lukáš Kovanda</td>\n",
       "      <td>G12034372</td>\n",
       "    </tr>\n",
       "    <tr>\n",
       "      <th>85</th>\n",
       "      <td>4730</td>\n",
       "      <td>Karolína Koubová</td>\n",
       "      <td>G58241908</td>\n",
       "    </tr>\n",
       "    <tr>\n",
       "      <th>86</th>\n",
       "      <td>4817</td>\n",
       "      <td>Petr Pavel</td>\n",
       "      <td>G2080040</td>\n",
       "    </tr>\n",
       "    <tr>\n",
       "      <th>87</th>\n",
       "      <td>4817</td>\n",
       "      <td>Kateřina Stojanová</td>\n",
       "      <td>G38df309d-E</td>\n",
       "    </tr>\n",
       "    <tr>\n",
       "      <th>88</th>\n",
       "      <td>4825</td>\n",
       "      <td>Jakub Michálek</td>\n",
       "      <td>G13578296</td>\n",
       "    </tr>\n",
       "  </tbody>\n",
       "</table>\n",
       "<p>89 rows × 3 columns</p>\n",
       "</div>"
      ],
      "text/plain": [
       "   index              respondent        gkbid\n",
       "0    233  Hana Kordová Marvanová    G12018971\n",
       "1    233              Petr Pavel     G2080040\n",
       "2    233            Petr Pithart      G685676\n",
       "3    322            Donald Trump       G22686\n",
       "4    410         Hana Naiclerová    G77833405\n",
       "..   ...                     ...          ...\n",
       "84  4730           Lukáš Kovanda    G12034372\n",
       "85  4730        Karolína Koubová    G58241908\n",
       "86  4817              Petr Pavel     G2080040\n",
       "87  4817      Kateřina Stojanová  G38df309d-E\n",
       "88  4825          Jakub Michálek    G13578296\n",
       "\n",
       "[89 rows x 3 columns]"
      ]
     },
     "execution_count": 21,
     "metadata": {},
     "output_type": "execute_result"
    }
   ],
   "source": [
    "respondents_df = pd.DataFrame(index_person, columns=[\"index\", \"respondent\", \"gkbid\"])\n",
    "respondents_df.set_index(\"index\")\n",
    "respondents_df.index.astype(int)\n",
    "respondents_df"
   ]
  },
  {
   "cell_type": "code",
   "execution_count": 22,
   "metadata": {},
   "outputs": [
    {
     "data": {
      "text/html": [
       "<div>\n",
       "<style scoped>\n",
       "    .dataframe tbody tr th:only-of-type {\n",
       "        vertical-align: middle;\n",
       "    }\n",
       "\n",
       "    .dataframe tbody tr th {\n",
       "        vertical-align: top;\n",
       "    }\n",
       "\n",
       "    .dataframe thead th {\n",
       "        text-align: right;\n",
       "    }\n",
       "</style>\n",
       "<table border=\"1\" class=\"dataframe\">\n",
       "  <thead>\n",
       "    <tr style=\"text-align: right;\">\n",
       "      <th></th>\n",
       "      <th>respondent</th>\n",
       "    </tr>\n",
       "    <tr>\n",
       "      <th>index</th>\n",
       "      <th></th>\n",
       "    </tr>\n",
       "  </thead>\n",
       "  <tbody>\n",
       "    <tr>\n",
       "      <th>1090</th>\n",
       "      <td>Petr Musil</td>\n",
       "    </tr>\n",
       "    <tr>\n",
       "      <th>1178</th>\n",
       "      <td>Věra Jourová;Emmanuel Macron;Vladimír Kroc</td>\n",
       "    </tr>\n",
       "    <tr>\n",
       "      <th>1426</th>\n",
       "      <td>Ondřej Kundra;Andrej Babiš;Vladimír Kroc</td>\n",
       "    </tr>\n",
       "    <tr>\n",
       "      <th>1515</th>\n",
       "      <td>Vladimír Kroc</td>\n",
       "    </tr>\n",
       "    <tr>\n",
       "      <th>1693</th>\n",
       "      <td>Martin Krsek</td>\n",
       "    </tr>\n",
       "    <tr>\n",
       "      <th>1782</th>\n",
       "      <td>Jan Bartošek;Andrej Babiš</td>\n",
       "    </tr>\n",
       "    <tr>\n",
       "      <th>2034</th>\n",
       "      <td>Josef Středula;Vladimír Kroc</td>\n",
       "    </tr>\n",
       "    <tr>\n",
       "      <th>2124</th>\n",
       "      <td>Robert Plaga;Vladimír Balaš;Vladimír Kroc</td>\n",
       "    </tr>\n",
       "    <tr>\n",
       "      <th>2212</th>\n",
       "      <td>Alexandr Vondra;Vladimír Kroc</td>\n",
       "    </tr>\n",
       "    <tr>\n",
       "      <th>2302</th>\n",
       "      <td>Helena Langšádlová;Vladimír Kroc</td>\n",
       "    </tr>\n",
       "    <tr>\n",
       "      <th>233</th>\n",
       "      <td>Hana Kordová Marvanová;Petr Pavel;Petr Pithart</td>\n",
       "    </tr>\n",
       "    <tr>\n",
       "      <th>2389</th>\n",
       "      <td>Jiří Hamza;Vladimír Kroc</td>\n",
       "    </tr>\n",
       "    <tr>\n",
       "      <th>2791</th>\n",
       "      <td>Tereza Matějčková;Petr Fiala</td>\n",
       "    </tr>\n",
       "    <tr>\n",
       "      <th>2869</th>\n",
       "      <td>Karolína Koubová</td>\n",
       "    </tr>\n",
       "    <tr>\n",
       "      <th>2877</th>\n",
       "      <td>Jan Kysela;Petr Pavel</td>\n",
       "    </tr>\n",
       "    <tr>\n",
       "      <th>2952</th>\n",
       "      <td>Marian Jurečka;Danuše Nerudová;Vladimír Špidla...</td>\n",
       "    </tr>\n",
       "    <tr>\n",
       "      <th>2960</th>\n",
       "      <td>Martin Bursík</td>\n",
       "    </tr>\n",
       "    <tr>\n",
       "      <th>2962</th>\n",
       "      <td>Jan Pokorný</td>\n",
       "    </tr>\n",
       "    <tr>\n",
       "      <th>322</th>\n",
       "      <td>Donald Trump</td>\n",
       "    </tr>\n",
       "    <tr>\n",
       "      <th>3360</th>\n",
       "      <td>Petr Pavel;Petr Pithart;Jan Komárek;Karolína K...</td>\n",
       "    </tr>\n",
       "    <tr>\n",
       "      <th>3446</th>\n",
       "      <td>Zdeněk Hřib;Karolína Koubová</td>\n",
       "    </tr>\n",
       "    <tr>\n",
       "      <th>3454</th>\n",
       "      <td>Jan Charvát;Jindřich Rajchl</td>\n",
       "    </tr>\n",
       "    <tr>\n",
       "      <th>3529</th>\n",
       "      <td>Evžen Boček;Michal Jelínek</td>\n",
       "    </tr>\n",
       "    <tr>\n",
       "      <th>3615</th>\n",
       "      <td>Markéta Gregorová</td>\n",
       "    </tr>\n",
       "    <tr>\n",
       "      <th>3623</th>\n",
       "      <td>Miroslav Kalousek</td>\n",
       "    </tr>\n",
       "    <tr>\n",
       "      <th>3883</th>\n",
       "      <td>Michal Půr;Petr Pavel</td>\n",
       "    </tr>\n",
       "    <tr>\n",
       "      <th>3961</th>\n",
       "      <td>Petr Třešňák</td>\n",
       "    </tr>\n",
       "    <tr>\n",
       "      <th>3969</th>\n",
       "      <td>Jan Beroun</td>\n",
       "    </tr>\n",
       "    <tr>\n",
       "      <th>4047</th>\n",
       "      <td>Petr Havel;Martin Štěpánek;Karolína Koubová</td>\n",
       "    </tr>\n",
       "    <tr>\n",
       "      <th>410</th>\n",
       "      <td>Hana Naiclerová</td>\n",
       "    </tr>\n",
       "    <tr>\n",
       "      <th>4130</th>\n",
       "      <td>Marian Jurečka;Igor Hendrych;Viktor Vojtko;Kar...</td>\n",
       "    </tr>\n",
       "    <tr>\n",
       "      <th>4138</th>\n",
       "      <td>Pavel Klíma</td>\n",
       "    </tr>\n",
       "    <tr>\n",
       "      <th>4214</th>\n",
       "      <td>Jan Pokorný</td>\n",
       "    </tr>\n",
       "    <tr>\n",
       "      <th>4226</th>\n",
       "      <td>Pavel Řežábek</td>\n",
       "    </tr>\n",
       "    <tr>\n",
       "      <th>4474</th>\n",
       "      <td>Karolína Koubová;Eduard Stehlík;Jaroslav Miller</td>\n",
       "    </tr>\n",
       "    <tr>\n",
       "      <th>4482</th>\n",
       "      <td>Vladimir Vladimirovič Putin</td>\n",
       "    </tr>\n",
       "    <tr>\n",
       "      <th>4561</th>\n",
       "      <td>Elon Musk;Michal Pěchouček;Karolína Koubová</td>\n",
       "    </tr>\n",
       "    <tr>\n",
       "      <th>4569</th>\n",
       "      <td>Věra Jourová</td>\n",
       "    </tr>\n",
       "    <tr>\n",
       "      <th>4647</th>\n",
       "      <td>Vladimír Balaš;Mikuláš Bek;Jana Berkovcová;Jan...</td>\n",
       "    </tr>\n",
       "    <tr>\n",
       "      <th>4730</th>\n",
       "      <td>Lukáš Kovanda;Karolína Koubová</td>\n",
       "    </tr>\n",
       "    <tr>\n",
       "      <th>4817</th>\n",
       "      <td>Petr Pavel;Kateřina Stojanová</td>\n",
       "    </tr>\n",
       "    <tr>\n",
       "      <th>4825</th>\n",
       "      <td>Jakub Michálek</td>\n",
       "    </tr>\n",
       "    <tr>\n",
       "      <th>498</th>\n",
       "      <td>Karel Řehka</td>\n",
       "    </tr>\n",
       "    <tr>\n",
       "      <th>582</th>\n",
       "      <td>Stanislav Biler;Petr Pavel</td>\n",
       "    </tr>\n",
       "    <tr>\n",
       "      <th>828</th>\n",
       "      <td>Vladimír Kroc</td>\n",
       "    </tr>\n",
       "    <tr>\n",
       "      <th>914</th>\n",
       "      <td>Vladimír Bezděk;Petr Pavel;Vladimír Kroc</td>\n",
       "    </tr>\n",
       "  </tbody>\n",
       "</table>\n",
       "</div>"
      ],
      "text/plain": [
       "                                              respondent\n",
       "index                                                   \n",
       "1090                                          Petr Musil\n",
       "1178          Věra Jourová;Emmanuel Macron;Vladimír Kroc\n",
       "1426            Ondřej Kundra;Andrej Babiš;Vladimír Kroc\n",
       "1515                                       Vladimír Kroc\n",
       "1693                                        Martin Krsek\n",
       "1782                           Jan Bartošek;Andrej Babiš\n",
       "2034                        Josef Středula;Vladimír Kroc\n",
       "2124           Robert Plaga;Vladimír Balaš;Vladimír Kroc\n",
       "2212                       Alexandr Vondra;Vladimír Kroc\n",
       "2302                    Helena Langšádlová;Vladimír Kroc\n",
       "233       Hana Kordová Marvanová;Petr Pavel;Petr Pithart\n",
       "2389                            Jiří Hamza;Vladimír Kroc\n",
       "2791                        Tereza Matějčková;Petr Fiala\n",
       "2869                                    Karolína Koubová\n",
       "2877                               Jan Kysela;Petr Pavel\n",
       "2952   Marian Jurečka;Danuše Nerudová;Vladimír Špidla...\n",
       "2960                                       Martin Bursík\n",
       "2962                                         Jan Pokorný\n",
       "322                                         Donald Trump\n",
       "3360   Petr Pavel;Petr Pithart;Jan Komárek;Karolína K...\n",
       "3446                        Zdeněk Hřib;Karolína Koubová\n",
       "3454                         Jan Charvát;Jindřich Rajchl\n",
       "3529                          Evžen Boček;Michal Jelínek\n",
       "3615                                   Markéta Gregorová\n",
       "3623                                   Miroslav Kalousek\n",
       "3883                               Michal Půr;Petr Pavel\n",
       "3961                                        Petr Třešňák\n",
       "3969                                          Jan Beroun\n",
       "4047         Petr Havel;Martin Štěpánek;Karolína Koubová\n",
       "410                                      Hana Naiclerová\n",
       "4130   Marian Jurečka;Igor Hendrych;Viktor Vojtko;Kar...\n",
       "4138                                         Pavel Klíma\n",
       "4214                                         Jan Pokorný\n",
       "4226                                       Pavel Řežábek\n",
       "4474     Karolína Koubová;Eduard Stehlík;Jaroslav Miller\n",
       "4482                         Vladimir Vladimirovič Putin\n",
       "4561         Elon Musk;Michal Pěchouček;Karolína Koubová\n",
       "4569                                        Věra Jourová\n",
       "4647   Vladimír Balaš;Mikuláš Bek;Jana Berkovcová;Jan...\n",
       "4730                      Lukáš Kovanda;Karolína Koubová\n",
       "4817                       Petr Pavel;Kateřina Stojanová\n",
       "4825                                      Jakub Michálek\n",
       "498                                          Karel Řehka\n",
       "582                           Stanislav Biler;Petr Pavel\n",
       "828                                        Vladimír Kroc\n",
       "914             Vladimír Bezděk;Petr Pavel;Vladimír Kroc"
      ]
     },
     "execution_count": 22,
     "metadata": {},
     "output_type": "execute_result"
    }
   ],
   "source": [
    "# Vrátíme osoby do původního dataframu. Grupujeme si osoby podle indexu.\n",
    "merged_respondents_df = respondents_df.groupby([\"index\"])\n",
    "merged_respondents_df = merged_respondents_df[\"respondent\"].apply(\";\".join)\n",
    "merged_respondents_df.reset_index().set_index(\"index\")\n",
    "merged_respondents_df = pd.DataFrame(merged_respondents_df)\n",
    "merged_respondents_df"
   ]
  },
  {
   "cell_type": "code",
   "execution_count": 23,
   "metadata": {},
   "outputs": [
    {
     "name": "stdout",
     "output_type": "stream",
     "text": [
      "int32\n"
     ]
    }
   ],
   "source": [
    "merged_respondents_df.index = merged_respondents_df.index.astype(int)\n",
    "print(merged_respondents_df.index.dtype)\n",
    "\n",
    "# Iterace: Tohle je pěkná blbost z hlediska rychlosti, ale merge nějak nefungoval.\n",
    "# Nicméně smyčka funguje a zjistili jsme, že indexy neměli správny typ, proto původní merge nefungoval.\n",
    "# nechávám jako důkaz a připomínku vlastní blbosti.\n",
    "# for row in df.iterrows():\n",
    "#     if row[0] in merged_respondents_df.index:\n",
    "#         print(row[0], merged_respondents_df.loc[row[0]])"
   ]
  },
  {
   "cell_type": "code",
   "execution_count": 24,
   "metadata": {},
   "outputs": [],
   "source": [
    "final_df = df.join(merged_respondents_df)"
   ]
  },
  {
   "cell_type": "code",
   "execution_count": 25,
   "metadata": {},
   "outputs": [],
   "source": [
    "final_df.to_csv(DATA / \"final.csv\")"
   ]
  },
  {
   "attachments": {},
   "cell_type": "markdown",
   "metadata": {},
   "source": [
    "### Zjisti funkce osob pomocí Geneea\n",
    "\n",
    "**Nyní nemám přístup k této funkcionalitě.**\n",
    "\n",
    "Zjistíme funkce pro všechny rozpoznané osoby. Prozatím negunguje / access denied"
   ]
  },
  {
   "cell_type": "code",
   "execution_count": 26,
   "metadata": {},
   "outputs": [
    {
     "data": {
      "text/plain": [
       "b'Access Denied'"
      ]
     },
     "execution_count": 26,
     "metadata": {},
     "output_type": "execute_result"
    }
   ],
   "source": [
    "ids = respondents_df[\"gkbid\"].to_list()\n",
    "data_input = {\n",
    "    \"ids\": ids,\n",
    "    \"language\": \"cs\",\n",
    "}\n",
    "\n",
    "result = requests.post(\n",
    "    f\"{BASE_URL}knowledgebase/infoboxes\", json=data_input, headers=HEADERS\n",
    ")\n",
    "result.content"
   ]
  }
 ],
 "metadata": {
  "kernelspec": {
   "display_name": ".venv",
   "language": "python",
   "name": "python3"
  },
  "language_info": {
   "codemirror_mode": {
    "name": "ipython",
    "version": 3
   },
   "file_extension": ".py",
   "mimetype": "text/x-python",
   "name": "python",
   "nbconvert_exporter": "python",
   "pygments_lexer": "ipython3",
   "version": "3.11.0"
  },
  "orig_nbformat": 4,
  "vscode": {
   "interpreter": {
    "hash": "176624e92fd32b30b3dd28b2fffc61fab9be656296c97860344b846bd2b1f923"
   }
  }
 },
 "nbformat": 4,
 "nbformat_minor": 2
}
